{
 "cells": [
  {
   "cell_type": "code",
   "execution_count": null,
   "metadata": {},
   "outputs": [],
   "source": [
    "from src import LaNoLem, plot_result\n",
    "from src.Dysts_dataset import Data\n",
    "import matplotlib.pyplot as plt\n",
    "%matplotlib inline\n",
    "\n",
    "Dataset = Data()\n",
    "data_name='Halvorsen'\n",
    "data = Dataset.make_each_data(data_name, noise_list=[0.5], seed_list=[19])[0.5][19]\n",
    "setting = Dataset.make_setting(data_name)\n",
    "model = LaNoLem(verbose=True)\n",
    "model.random_state = 42\n",
    "model = model.fit(data,fit_type='Robust', max_iter=50)\n",
    "plot_result(model, data, setting, fsize=3.3)\n",
    "plt.show()"
   ]
  },
  {
   "cell_type": "code",
   "execution_count": null,
   "metadata": {},
   "outputs": [],
   "source": [
    "from src import LaNoLem, plot_result, make_data\n",
    "import matplotlib.pyplot as plt\n",
    "%matplotlib inline\n",
    "data_name = 'outdoor'\n",
    "data, setting = make_data.make_data(data_name)\n",
    "model = LaNoLem(verbose=True, ptol=1e-10)\n",
    "model.random_state = 42\n",
    "model = model.fit(data, k = 3,\n",
    "                  fit_type='Latent', max_iter=50)\n",
    "plot_result(model, data, setting, fsize=3.3)"
   ]
  },
  {
   "cell_type": "code",
   "execution_count": null,
   "metadata": {},
   "outputs": [],
   "source": [
    "%matplotlib inline\n",
    "plt.style.use('seaborn-v0_8-paper')\n",
    "plt.rcParams[\"figure.autolayout\"] = True\n",
    "fig = plt.figure(figsize=(12, 6))\n",
    "Sta, _ = model.gen()\n",
    "# Sta = model.Ez\n",
    "x = Sta[:, 0]\n",
    "y = Sta[:, 1]\n",
    "z = Sta[:, 2]\n",
    "# 位相平面\n",
    "ax = fig.add_subplot(122, projection='3d')\n",
    "ax.plot(x, y, z, lw=1.1)\n",
    "ax.set_xlabel('$s_0$', labelpad=15, fontsize=28)\n",
    "ax.set_ylabel('$s_1$', labelpad=15, fontsize=28)\n",
    "ax.set_zlabel('$s_2$', labelpad=15, fontsize=28)\n",
    "ax.tick_params(labelsize=20)\n",
    "ax.zaxis.labelpad = 5\n",
    "plt.subplots_adjust(left=0.001, right=0.8, top=0.9, bottom=0.1)\n",
    "plt.tight_layout(rect=[0.05, 0.05, 0.8, 1.0])\n",
    "plt.savefig(f\"result/Latent/outdoor/latent_state.pdf\", bbox_inches='tight', pad_inches=0.5, transparent=True)\n",
    "plt.show()"
   ]
  },
  {
   "cell_type": "code",
   "execution_count": null,
   "metadata": {},
   "outputs": [],
   "source": []
  }
 ],
 "metadata": {
  "kernelspec": {
   "display_name": "chameleon--FzDwl5K-py3.9",
   "language": "python",
   "name": "python3"
  },
  "language_info": {
   "codemirror_mode": {
    "name": "ipython",
    "version": 3
   },
   "file_extension": ".py",
   "mimetype": "text/x-python",
   "name": "python",
   "nbconvert_exporter": "python",
   "pygments_lexer": "ipython3",
   "version": "3.11.9"
  }
 },
 "nbformat": 4,
 "nbformat_minor": 2
}
