{
 "cells": [
  {
   "cell_type": "code",
   "execution_count": null,
   "metadata": {},
   "outputs": [],
   "source": [
    "from src import LaNoLem, plot_result\n",
    "from src.Dysts_dataset import Data\n",
    "import matplotlib.pyplot as plt\n",
    "%matplotlib inline\n",
    "\n",
    "Dataset = Data()\n",
    "data_name='Halvorsen'\n",
    "data = Dataset.make_each_data(data_name, noise_list=[0.5], seed_list=[19])[0.5][19]\n",
    "setting = Dataset.make_setting(data_name)\n",
    "model = LaNoLem(verbose=True)\n",
    "model.random_state = 42\n",
    "model = model.fit(data,fit_type='Robust', max_iter=50)\n",
    "plot_result(model, data, setting, fsize=3.3)\n",
    "plt.show()"
   ]
  },
  {
   "cell_type": "code",
   "execution_count": null,
   "metadata": {},
   "outputs": [],
   "source": [
    "from src import LaNoLem, plot_result, make_data\n",
    "import matplotlib.pyplot as plt\n",
    "%matplotlib inline\n",
    "data_name = 'outdoor'\n",
    "data, setting = make_data.make_data(data_name)\n",
    "model = LaNoLem(verbose=True, ptol=1e-10)\n",
    "model.random_state = 42\n",
    "model = model.fit(data, k = 3,\n",
    "                  fit_type='Latent', max_iter=50)\n",
    "plot_result(model, data, setting, fsize=3.3)"
   ]
  }
 ],
 "metadata": {
  "kernelspec": {
   "display_name": "chameleon--FzDwl5K-py3.9",
   "language": "python",
   "name": "python3"
  },
  "language_info": {
   "codemirror_mode": {
    "name": "ipython",
    "version": 3
   },
   "file_extension": ".py",
   "mimetype": "text/x-python",
   "name": "python",
   "nbconvert_exporter": "python",
   "pygments_lexer": "ipython3",
   "version": "3.11.9"
  }
 },
 "nbformat": 4,
 "nbformat_minor": 2
}
